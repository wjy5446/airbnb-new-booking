{
 "cells": [
  {
   "cell_type": "markdown",
   "metadata": {},
   "source": [
    "# Project : Airbnb New User Booking\n",
    "---"
   ]
  },
  {
   "cell_type": "markdown",
   "metadata": {},
   "source": [
    "### 1. Introduction :\n",
    "\n",
    "- purpose of analysis : Predict destination country\n",
    "\n",
    "- evaluation metric : NDCG (Normalized discounted cumulative gain)\n",
    "\n",
    "\n",
    "$$\n",
    "DCG_k=\\sum_{i=1}^k\\frac{2^{rel_i}-1}{\\log_2{\\left(i+1\\right)}}\n",
    "$$\n",
    "\n",
    "$$\n",
    "nDCG_k=\\frac{DCG_k}{IDCG_k}\n",
    "$$\n"
   ]
  },
  {
   "cell_type": "markdown",
   "metadata": {},
   "source": [
    "#### (1) Kaggle Result"
   ]
  },
  {
   "cell_type": "markdown",
   "metadata": {},
   "source": [
    "- **private 171 / 1462 (상위 11.7%)**\n",
    "- **public 162 / 1462 (상위 11.0%)**"
   ]
  },
  {
   "cell_type": "markdown",
   "metadata": {},
   "source": [
    "![alt text](img/score.png)"
   ]
  },
  {
   "cell_type": "markdown",
   "metadata": {},
   "source": [
    "---"
   ]
  },
  {
   "cell_type": "markdown",
   "metadata": {},
   "source": [
    "![alt text](img/rating.png)"
   ]
  },
  {
   "cell_type": "markdown",
   "metadata": {},
   "source": [
    "#### (2) Model Architecture\n",
    "![alt text](img/model_architecture.jpg)"
   ]
  },
  {
   "cell_type": "markdown",
   "metadata": {},
   "source": [
    "### 2. Methods"
   ]
  },
  {
   "cell_type": "markdown",
   "metadata": {},
   "source": [
    "#### (1) Description of selected model : Light GBM"
   ]
  },
  {
   "cell_type": "markdown",
   "metadata": {},
   "source": [
    "![alt text](img/lgb_parameter.jpg)"
   ]
  },
  {
   "cell_type": "markdown",
   "metadata": {},
   "source": [
    "#### (2) feature engineering"
   ]
  },
  {
   "cell_type": "markdown",
   "metadata": {},
   "source": [
    "##### (2)-1. train / test missing data  \n",
    "- date_first_booking : drop\n",
    "- age : filled using the lightGBM\n",
    "- gender : filled uisng the lightGBM\n",
    "- first_affiliate_tracked : filled by mode data"
   ]
  },
  {
   "cell_type": "code",
   "execution_count": 59,
   "metadata": {},
   "outputs": [],
   "source": [
    "import pandas as pd\n",
    "import numpy as np\n",
    "import matplotlib.pyplot as plt\n",
    "import seaborn as sns\n",
    "%matplotlib inline"
   ]
  },
  {
   "cell_type": "code",
   "execution_count": 60,
   "metadata": {},
   "outputs": [],
   "source": [
    "df_train = pd.read_csv(\"train_users_2.csv\")\n",
    "df_test = pd.read_csv(\"test_users.csv\")\n",
    "df_all = pd.concat([df_train, df_test])\n",
    "df_session = pd.read_csv('sessions.csv')"
   ]
  },
  {
   "cell_type": "code",
   "execution_count": 61,
   "metadata": {},
   "outputs": [],
   "source": [
    "df_train_tmp = pd.DataFrame()\n",
    "df_train_tmp[\"id\"] = df_train.id\n",
    "df_train_tmp[\"count\"] = 1\n",
    "df_train_tmp[\"NDF_DF\"] = df_train[\"country_destination\"].apply(lambda x : \"NDF\" if x == \"NDF\" else \"DF\")\n",
    "df_train_tmp[\"country\"] = df_train[\"country_destination\"]"
   ]
  },
  {
   "cell_type": "markdown",
   "metadata": {},
   "source": [
    "##### Missing Value"
   ]
  },
  {
   "cell_type": "code",
   "execution_count": 62,
   "metadata": {},
   "outputs": [
    {
     "name": "stdout",
     "output_type": "stream",
     "text": [
      "Missing data ratio\n",
      "date_frist_booking : 67.73\n",
      "age : 42.41\n",
      "first_affiliate_tracked: 2.21\n"
     ]
    },
    {
     "data": {
      "image/png": "[encoded data removed]",
      "text/plain": [
       "<matplotlib.figure.Figure at 0x7fd857294cc0>"
      ]
     },
     "metadata": {},
     "output_type": "display_data"
    }
   ],
   "source": [
    "df_all = df_all.drop(\"country_destination\", axis = 1)\n",
    "df_all.isnull().sum().sort_values(ascending = False).plot(kind=\"bar\")\n",
    "print('Missing data ratio')\n",
    "print('date_frist_booking :',round(df_all.date_first_booking.isnull().sum() / len(df_all) * 100, 2))\n",
    "print('age :',round(df_all.age.isnull().sum() / len(df_all) * 100, 2))\n",
    "print('first_affiliate_tracked:',round(df_all.first_affiliate_tracked.isnull().sum() / len(df_all) * 100, 2))"
   ]
  },
  {
   "cell_type": "markdown",
   "metadata": {},
   "source": [
    "##### **Gender**"
   ]
  },
  {
   "cell_type": "code",
   "execution_count": 63,
   "metadata": {},
   "outputs": [
    {
     "data": {
      "image/png": "[encoded data removed]",
      "text/plain": [
       "<matplotlib.figure.Figure at 0x7fd8c96596d8>"
      ]
     },
     "metadata": {},
     "output_type": "display_data"
    }
   ],
   "source": [
    "df_train[\"count\"] = 1\n",
    "df_gender_country = df_train.pivot_table(values = \"count\", index = [\"country_destination\"], columns = [\"gender\"], aggfunc=np.sum)\n",
    "df_gender_country[\"FEMALE\"] = df_gender_country[\"FEMALE\"] / df_gender_country[\"FEMALE\"].sum() * 100\n",
    "df_gender_country[\"MALE\"] = df_gender_country[\"MALE\"] / df_gender_country[\"MALE\"].sum() * 1ㅡ00\n",
    "(df_gender_country[\"FEMALE\"] - df_gender_country[\"MALE\"]).sort_values(ascending = False).plot(kind=\"bar\")\n",
    "plt.title(\"FEMALE - MALE (%)\")\n",
    "plt.show()"
   ]
  },
  {
   "cell_type": "markdown",
   "metadata": {},
   "source": [
    "- 여자는 FR, IT 로 여행갈 확률이 높다. \n",
    "- 남자는 other 로 여행갈 확률이 높다.\n",
    "\n",
    "- **Missing value 처리 방법** : lightGBM을 이용해 gender 예측"
   ]
  },
  {
   "cell_type": "markdown",
   "metadata": {},
   "source": [
    "##### **age**"
   ]
  },
  {
   "cell_type": "code",
   "execution_count": 64,
   "metadata": {},
   "outputs": [],
   "source": [
    "labels = [\"0-15\", \"15-25\", \"25-35\", \"35-60\", \"60-\"]\n",
    "bins = [0, 15, 25, 35, 60, 9999]\n",
    "\n",
    "df_train[\"age_cut\"] = pd.cut(df_train[df_train[\"age\"] <= 120]['age'], 5, labels = labels)\n",
    "df_age_pivot = df_train.pivot_table(values = \"count\", index = \"age_cut\", columns = \"country_destination\", aggfunc = np.sum, fill_value = 0)\n",
    "for c in df_age_pivot.index:\n",
    "    df_age_pivot.loc[c] = (df_age_pivot.loc[c] / (df_train[\"age_cut\"] == c).sum() * 100)"
   ]
  },
  {
   "cell_type": "code",
   "execution_count": 65,
   "metadata": {},
   "outputs": [
    {
     "data": {
      "image/png": "[encoded data removed]",
      "text/plain": [
       "<matplotlib.figure.Figure at 0x7fd857257b70>"
      ]
     },
     "metadata": {},
     "output_type": "display_data"
    }
   ],
   "source": [
    "1fig, axes = plt.subplots(2, 1, figsize = (20, 10))\n",
    "df_age_pivot.T.plot(kind = \"bar\", ax = axes[0])\n",
    "df_age_pivot.T.plot(kind = \"bar\", ax = axes[1])\n",
    "axes[0].set_title(\"age(%)\")\n",
    "axes[1].set_title(\"age - zoom in(%)\")\n",
    "axes[1].set_ylim([0, 4])\n",
    "plt.tight_layout()\n",
    "plt.show()"
   ]
  },
  {
   "cell_type": "markdown",
   "metadata": {},
   "source": [
    "- 연령대별로 다른 나라를 선택할 수 있다.\n",
    "\n",
    "- **Missing value 처리 방법** : lightGBM을 이용해 age 예측"
   ]
  },
  {
   "cell_type": "markdown",
   "metadata": {},
   "source": [
    "##### **first_affiliate_tracked**"
   ]
  },
  {
   "cell_type": "code",
   "execution_count": 66,
   "metadata": {},
   "outputs": [
    {
     "data": {
      "image/png": "[encoded data removed]",
      "text/plain": [
       "<matplotlib.figure.Figure at 0x7fd8c540fb00>"
      ]
     },
     "metadata": {},
     "output_type": "display_data"
    },
    {
     "name": "stdout",
     "output_type": "stream",
     "text": [
      "untracked        51.962460\n",
      "linked           22.523925\n",
      "omg              19.909126\n",
      "tracked-other     2.415196\n",
      "product           0.853938\n",
      "marketing         0.101979\n",
      "local ops         0.025041\n",
      "Name: first_affiliate_tracked, dtype: float64\n"
     ]
    }
   ],
   "source": [
    "sns.countplot(df_all[\"first_affiliate_tracked\"])\n",
    "plt.show()\n",
    "print(df_all[\"first_affiliate_tracked\"].value_counts() / len(df_all) * 100)"
   ]
  },
  {
   "cell_type": "markdown",
   "metadata": {},
   "source": [
    "- 전체 특징에서 51.96%가 untracked\n",
    "\n",
    "- **Missing value 처리 방법** : 최빈값 `untracked` 으로 Missing value 처리"
   ]
  },
  {
   "cell_type": "markdown",
   "metadata": {},
   "source": [
    "##### **date_first_booking**"
   ]
  },
  {
   "cell_type": "code",
   "execution_count": 67,
   "metadata": {},
   "outputs": [
    {
     "name": "stdout",
     "output_type": "stream",
     "text": [
      "Number of date_first_booking in test : 0\n"
     ]
    }
   ],
   "source": [
    "test_exist = len(df_test) - df_test[\"date_first_booking\"].isnull().sum()\n",
    "print(\"Number of date_first_booking in test : {}\".format(test_exist))"
   ]
  },
  {
   "cell_type": "markdown",
   "metadata": {},
   "source": [
    "- test 데이터에는 date_first_booking 특징이 전혀 존재하지 않는다. \n",
    "\n",
    "- **Missing value 처리 방법** :해당 특징은 사용하지 않는다."
   ]
  },
  {
   "cell_type": "markdown",
   "metadata": {},
   "source": [
    "##### (3)-2. sessions \n",
    "- **가정) session 정보가 많을수록 컴퓨터를 많이 이용해 나라를 예약할 확률이 높다.**\n",
    "- action, action type, action detial : count, mode \n",
    "- secs elapsed : mode, mean, median\n",
    "- device types : mode"
   ]
  },
  {
   "cell_type": "code",
   "execution_count": 68,
   "metadata": {},
   "outputs": [
    {
     "data": {
      "image/png": "[encoded data removed]",
      "text/plain": [
       "<matplotlib.figure.Figure at 0x7fd8c934e978>"
      ]
     },
     "metadata": {},
     "output_type": "display_data"
    }
   ],
   "source": [
    "df_log_count = pd.DataFrame(df_session.groupby([\"user_id\"])[\"user_id\"].count().fillna(0)).rename(columns = {\"user_id\":\"log_count\"})\n",
    "df_train_count = df_train_tmp.merge(df_log_count, how = 'inner', left_on = \"id\", right_index = True)\n",
    "df_train_count_mean  = df_train_count.groupby([\"NDF_DF\"])[\"log_count\"].mean()\n",
    "df_train_count_mean.plot(kind=\"bar\")\n",
    "plt.title(\"session count (mean)\")\n",
    "plt.show()"
   ]
  },
  {
   "cell_type": "code",
   "execution_count": 69,
   "metadata": {},
   "outputs": [
    {
     "data": {
      "image/png": "[encoded data removed]",
      "text/plain": [
       "<matplotlib.figure.Figure at 0x7fd8570659b0>"
      ]
     },
     "metadata": {},
     "output_type": "display_data"
    }
   ],
   "source": [
    "df_type_count = pd.DataFrame(df_session.groupby([\"user_id\", \"action_type\"])[\"user_id\"].count().unstack().fillna(0))\n",
    "df_train_type = df_train_tmp.merge(df_type_count, how = 'inner', left_on = \"id\", right_index = True)\n",
    "df_train_type_mean  = df_train_type.groupby([\"NDF_DF\"]).mean()\n",
    "df_train_type_mean.T.plot(kind = \"bar\", figsize=(20, 4))\n",
    "plt.title(\"action_type count (mean)\")\n",
    "plt.show()"
   ]
  },
  {
   "cell_type": "markdown",
   "metadata": {},
   "source": [
    "- action_type count값의 mean를 보았을 때,  session값이 많을 수록, 특히 (click, data, view) count의 값이 커질 수록 DF일 확률이 높다."
   ]
  },
  {
   "cell_type": "markdown",
   "metadata": {},
   "source": [
    "##### (3)-3. first-active, create-account\n",
    "- **가정 1) weekend, holyday일 때 활동할수록 나라를 예약할 확률이 높다.**\n",
    "- first-active : weekend, holydays, year, month, day\n",
    "- create-account : year, month, day\n",
    "- lag : create-account - first-active"
   ]
  },
  {
   "cell_type": "code",
   "execution_count": 70,
   "metadata": {},
   "outputs": [],
   "source": [
    "df_train_last = pd.read_csv(\"last_train.csv\")"
   ]
  },
  {
   "cell_type": "code",
   "execution_count": 71,
   "metadata": {},
   "outputs": [],
   "source": [
    "li_target = df_train_last[\"country_destination\"].unique()\n",
    "li_wk = [\"mon\", \"tue\", \"wed\", \"thur\", \"fri\", \"sat\", \"sun\"]"
   ]
  },
  {
   "cell_type": "code",
   "execution_count": 72,
   "metadata": {},
   "outputs": [],
   "source": [
    "df_wk = pd.DataFrame(index = li_wk, columns = li_target)\n",
    "\n",
    "for d in li_wk:\n",
    "    df_wk.loc[d] = df_train_last[df_train_last[d] == 1].groupby([\"country_destination\"])[\"country_destination\"].count() / len(df_train_last[df_train_last[d] == 1]) * 100"
   ]
  },
  {
   "cell_type": "code",
   "execution_count": 73,
   "metadata": {},
   "outputs": [
    {
     "data": {
      "image/png": "[encoded data removed]",
      "text/plain": [
       "<matplotlib.figure.Figure at 0x7fd8c8504b70>"
      ]
     },
     "metadata": {},
     "output_type": "display_data"
    }
   ],
   "source": [
    "fig, axes = plt.subplots(2, 1, figsize = (20, 10))\n",
    "df_wk.T.plot(kind = \"bar\", ax = axes[0])\n",
    "df_wk.T.plot(kind = \"bar\", ax = axes[1])\n",
    "axes[0].set_title(\"weekend (%)\")\n",
    "axes[1].set_title(\"weekend - zoom in(%)\")\n",
    "axes[1].set_ylim([0, 3.5])\n",
    "plt.tight_layout()\n",
    "plt.show()"
   ]
  },
  {
   "cell_type": "markdown",
   "metadata": {},
   "source": [
    "##### (3)-4. faithless-sign\n",
    "- **가정) gender와 age를 unknown이라고 입력할수록 NDF일 활률이 높다**"
   ]
  },
  {
   "cell_type": "code",
   "execution_count": 74,
   "metadata": {},
   "outputs": [],
   "source": [
    "df_train_tmp[\"age_known\"] = df_train['age'] < 120\n",
    "df_train_tmp[\"gender_known\"] = df_train['gender'] != '-unknown-'"
   ]
  },
  {
   "cell_type": "code",
   "execution_count": 75,
   "metadata": {},
   "outputs": [],
   "source": [
    "df_age_NDF_DF = df_train_tmp.pivot_table(values = \"count\", columns = \"age_known\", index = \"NDF_DF\", aggfunc=\"sum\")\n",
    "for idx in df_age_NDF_DF.index:\n",
    "    df_age_NDF_DF.loc[idx] = df_age_NDF_DF.loc[idx] / np.sum(df_age_NDF_DF.loc[idx]) * 100\n",
    "    \n",
    "df_gender_NDF_DF = df_train_tmp.pivot_table(values = \"count\", columns = \"gender_known\", index = \"NDF_DF\", aggfunc=\"sum\")\n",
    "for idx in df_gender_NDF_DF.index:\n",
    "    df_gender_NDF_DF.loc[idx] = df_gender_NDF_DF.loc[idx] / np.sum(df_gender_NDF_DF.loc[idx]) * 100 "
   ]
  },
  {
   "cell_type": "code",
   "execution_count": 76,
   "metadata": {},
   "outputs": [
    {
     "data": {
      "image/png": "[encoded data removed]",
      "text/plain": [
       "<matplotlib.figure.Figure at 0x7fd8c84a29b0>"
      ]
     },
     "metadata": {},
     "output_type": "display_data"
    }
   ],
   "source": [
    "fig, ax =plt.subplots(1, 2, figsize = (10, 3))\n",
    "df_age_NDF_DF.plot(kind = \"bar\", ax = ax[0])\n",
    "ax[0].set_title(\"age_known\")\n",
    "df_gender_NDF_DF.plot(kind = \"bar\", ax = ax[1])\n",
    "ax[1].set_title(\"gender_known\")\n",
    "plt.show()"
   ]
  },
  {
   "cell_type": "markdown",
   "metadata": {},
   "source": [
    "- sign을 할 때 age, gender를 입력했을 때, 여행을 갈 확률이 높다고 판단.\n",
    "- 그러므로 age와 gender 둘중 하나가 unknown일 때 faithless-sign 이라 한다."
   ]
  },
  {
   "cell_type": "markdown",
   "metadata": {},
   "source": [
    "##### (3)-5. drop age-bks, countries\n",
    "- dropped data : age bkts, countries"
   ]
  },
  {
   "cell_type": "markdown",
   "metadata": {},
   "source": [
    "#### (4) Feature Selection"
   ]
  },
  {
   "cell_type": "markdown",
   "metadata": {},
   "source": [
    "- Number of features : 1054"
   ]
  },
  {
   "cell_type": "markdown",
   "metadata": {},
   "source": [
    "#### (5) Parameter Tuning"
   ]
  },
  {
   "cell_type": "markdown",
   "metadata": {},
   "source": [
    "![alt text](img/try-error_1.png)`"
   ]
  },
  {
   "cell_type": "markdown",
   "metadata": {},
   "source": [
    "### 4. Result"
   ]
  },
  {
   "cell_type": "markdown",
   "metadata": {},
   "source": [
    "#### (1) Classification Report"
   ]
  },
  {
   "cell_type": "markdown",
   "metadata": {},
   "source": [
    "- AU = 0, CA = 1, DE = 2, ES = 3, FR = 4, GB = 5, IT = 6, NDF = 7, NL = 8, PT = 9, US = 10, other = 11"
   ]
  },
  {
   "cell_type": "markdown",
   "metadata": {},
   "source": [
    "![alt text](img/classification report.png )"
   ]
  },
  {
   "cell_type": "markdown",
   "metadata": {},
   "source": [
    "#### (2) Accuracy Score"
   ]
  },
  {
   "cell_type": "markdown",
   "metadata": {},
   "source": [
    "![alt text](img/accuracy.png)"
   ]
  },
  {
   "cell_type": "markdown",
   "metadata": {},
   "source": [
    "#### (3) Feature importance"
   ]
  },
  {
   "cell_type": "markdown",
   "metadata": {},
   "source": [
    "![alt text](img/feature importance.png) "
   ]
  },
  {
   "cell_type": "markdown",
   "metadata": {},
   "source": [
    "### 5. Conclusion"
   ]
  },
  {
   "cell_type": "markdown",
   "metadata": {},
   "source": [
    "#### (1) feature importance 상위 15개 정보 분석"
   ]
  },
  {
   "cell_type": "markdown",
   "metadata": {},
   "source": [
    "- **age**\n",
    "- **lag_seconds**\n",
    "- **signup_flow** \n",
    "- **faithless_sign**\n",
    "- **session : elapsed secs(mean, sum, median)**\n",
    "- **count(type_view, type_click, type_data, type_submit)** \n",
    "- **count(action_index, action_view_search_results, action_lookup, action_ajax_refresh_subtotal)**"
   ]
  },
  {
   "cell_type": "markdown",
   "metadata": {},
   "source": [
    "#### (2) 가정에 대한 분석"
   ]
  },
  {
   "cell_type": "markdown",
   "metadata": {},
   "source": [
    "- **가정 1) session 정보가 많을수록 컴퓨터를 많이 이용해 나라를 예약할 확률이 높다.**\n",
    "  - feature importance에서도 EDA처럼 type_view, type_click, type_data의 count가 영향이 컸고 거기에 type_submit도 큰 영향을 미쳤다.\n",
    "\n",
    "\n",
    "- **가정 2) weekend, holyday일 때 활동할수록 나라를 예약할 확률이 높다.**\n",
    "  - feature importance에서 weekend(146, 49등)이다. 그러므로 예측을 하는 데 영향을 미친다고 할 수 있다.\n",
    "  - feature importance에서 holyday(57, 138등)이다. 평균보다 낮음으로 예측하는 데는 큰 영향을 미친다고 할 수 있다. \n",
    "\n",
    "\n",
    "- **가정 3) gender와 age를 unknown이라고 입력할수록 NDF일 활률이 높다**\n",
    "  - feature importance에서도 faithless_sign(667, 7등)이다. 그러므로 가정이 맞았다고 할 수 있다.\n"
   ]
  },
  {
   "cell_type": "markdown",
   "metadata": {},
   "source": [
    "** importance mean : 76, median : 28"
   ]
  },
  {
   "cell_type": "markdown",
   "metadata": {},
   "source": [
    "---"
   ]
  },
  {
   "cell_type": "markdown",
   "metadata": {},
   "source": [
    "### code implementation"
   ]
  },
  {
   "cell_type": "code",
   "execution_count": 77,
   "metadata": {},
   "outputs": [
    {
     "name": "stdout",
     "output_type": "stream",
     "text": [
      "             precision    recall  f1-score   support\n",
      "\n",
      "     FEMALE       0.58      0.72      0.65     77524\n",
      "       MALE       0.57      0.42      0.48     68209\n",
      "\n",
      "avg / total       0.58      0.58      0.57    145733\n",
      "\n",
      "             precision    recall  f1-score   support\n",
      "\n",
      "         노년       0.67      0.00      0.01      9993\n",
      "       미성년자       0.90      0.65      0.75        68\n",
      "         장년       0.48      0.38      0.43     55518\n",
      "         중년       0.50      0.79      0.61     70900\n",
      "         청년       0.55      0.04      0.08     22202\n",
      "\n",
      "avg / total       0.51      0.49      0.43    158681\n",
      "\n"
     ]
    }
   ],
   "source": [
    "from airpy.agd import * # age+gender predict data\n",
    "\n",
    "check, pre_age = pre_age_set_data(train_users_2, test_users)\n",
    "pre_gen_mission_test, pre_gen_train_test, pre_gen_mission, pre_gen_train, \\\n",
    "            pre_gen_mission_test_drop, pre_gen_train_test_drop = pre_gen_predict_data(pre_age)\n",
    "\n",
    "model_gen_lgb = predict_gen_LightGBM(pre_gen_train_test_drop, pre_gen_train_test, pre_gen_train_test_drop)\n",
    "model_gen_lgb.to_csv(\"model_gen_lgb.csv\", index=False)\n",
    "pre_age_mission_test, pre_age_train_test, pre_age_mission, pre_age_train, \\\n",
    "            pre_age_mission_test_drop, pre_age_train_test_drop = pre_age_predict_data(pre_age)\n",
    "\n",
    "cats = pre_age_predict_data_cat(pre_age_train)\n",
    "model_age_lgb = predict_age_LightGBM(pre_age_train_test_drop, cats, pre_age_mission_test_drop)\n",
    "model_age_lgb.to_csv(\"model_age_lgb.csv\", index=False)"
   ]
  },
  {
   "cell_type": "code",
   "execution_count": 78,
   "metadata": {},
   "outputs": [],
   "source": [
    "from airpy.merge import * # sessions merged data\n",
    "\n",
    "merged_sessions = make_merged_sessions()\n",
    "merged_sessions = remove_word()\n",
    "merged_sessions = sessions_detail_add()"
   ]
  },
  {
   "cell_type": "code",
   "execution_count": 79,
   "metadata": {},
   "outputs": [],
   "source": [
    "from airpy.data import * # classification data\n",
    "\n",
    "check, pre_age = pre_age_set_data(train_users_2, test_users)\n",
    "\n",
    "pre_age_mission_test, pre_age_train_test, pre_age_mission, pre_age_train, \\\n",
    "            pre_age_mission_test_drop, pre_age_train_test_drop = pre_age_predict_data(pre_age)\n",
    "\n",
    "cats = pre_age_predict_data_cat(pre_age_train)\n",
    "last_gen_add = add_gender(pre_age)\n",
    "add_hol = holiday(train_users_2, test_users)\n",
    "last_train_data, last_test_data, y_label, le = predict_age_add(pre_age_mission_test, pre_age_train_test, last_gen_add, add_hol)\n",
    "last_train_data_add, last_test_data_add = last_data_setting(last_train_data, last_test_data)"
   ]
  },
  {
   "cell_type": "code",
   "execution_count": 80,
   "metadata": {},
   "outputs": [],
   "source": [
    "def pre_setting():\n",
    "    last_train_data_add = pd.read_csv(\"last_train.csv\")\n",
    "    last_test_data_add = pd.read_csv(\"last_test.csv\")\n",
    "    \n",
    "    X = last_train_data_add\n",
    "    y = last_test_data_add\n",
    "    \n",
    "#     clf1 = linear_model.LogisticRegression(n_jobs=-1)\n",
    "#     clf2 = RandomForestClassifier(n_jobs=-1)\n",
    "#     clf3 = ExtraTreesClassifier(n_jobs=-1)\n",
    "#     clf4 = xgb.XGBClassifier(nthread=3, n_jobs=-1)\n",
    "    clf5 = lgb.LGBMClassifier(nthread=3, n_jobs=-1, reg_alpha=1)\n",
    "#     eclf2 = VotingClassifier(estimators=[('log', clf1), ('rf', clf2), ('ex', clf3), ('xgb', clf4), ('lgb', clf5)], voting='soft', weights=[1,1,1,1,1])\n",
    "    \n",
    "    return X, y, clf5"
   ]
  },
  {
   "cell_type": "code",
   "execution_count": 81,
   "metadata": {},
   "outputs": [],
   "source": [
    "X, y, clf5  = pre_setting()"
   ]
  },
  {
   "cell_type": "code",
   "execution_count": 82,
   "metadata": {},
   "outputs": [],
   "source": [
    "def submit_kaggle(df_train, df_test, model, user_id, target):\n",
    "    \n",
    "    le = LabelEncoder()\n",
    "\n",
    "    y_train = le.fit_transform(df_train[target])\n",
    "    X_train = df_train.drop([target, user_id], axis = 1)\n",
    "    \n",
    "    X_test_id = df_test[user_id]\n",
    "    X_test = df_test.drop([target, user_id], axis = 1)\n",
    "    \n",
    "\n",
    "    print(\"model fitting 시작\")\n",
    "    \n",
    "    model = model.fit(X_train, y_train)\n",
    "    \n",
    "    predic_proba = model.predict_proba(X_test)\n",
    "    \n",
    "   \n",
    "    print(\"model fitting 종료\")\n",
    "\n",
    "    df_submit = pd.DataFrame(columns=[\"id\", \"country\"])\n",
    "    ids = []\n",
    "    cts = []\n",
    "    for i in range(len(X_test_id)):\n",
    "        idx = X_test_id.iloc[i]\n",
    "        ids += [idx] * 5\n",
    "        cts += le.inverse_transform(np.argsort(predic_proba[i])[::-1])[:5].tolist()\n",
    "    df_submit[\"id\"] = ids\n",
    "    df_submit[\"country\"] = cts\n",
    "    df_submit.to_csv('submit_xg.csv', index = False)\n",
    "    print(\"csv file 생성\")\n",
    "#     !kaggle competitions submit -c airbnb-recruiting-new-user-bookings -f 'submit_xg.csv' -m \"Message\""
   ]
  },
  {
   "cell_type": "code",
   "execution_count": 83,
   "metadata": {},
   "outputs": [
    {
     "name": "stdout",
     "output_type": "stream",
     "text": [
      "model fitting 시작\n",
      "model fitting 종료\n",
      "csv file 생성\n"
     ]
    }
   ],
   "source": [
    "submit_kaggle(X, y, clf5, \"id\", \"country_destination\")"
   ]
  },
  {
   "cell_type": "code",
   "execution_count": null,
   "metadata": {},
   "outputs": [],
   "source": [
    "\n",
    "\n"
   ]
  },
  {
   "cell_type": "code",
   "execution_count": null,
   "metadata": {},
   "outputs": [],
   "source": []
  }
 ],
 "metadata": {
  "kernelspec": {
   "display_name": "Python 3",
   "language": "python",
   "name": "python3"
  },
  "language_info": {
   "codemirror_mode": {
    "name": "ipython",
    "version": 3
   },
   "file_extension": ".py",
   "mimetype": "text/x-python",
   "name": "python",
   "nbconvert_exporter": "python",
   "pygments_lexer": "ipython3",
   "version": "3.6.3"
  }
 },
 "nbformat": 4,
 "nbformat_minor": 2
}
